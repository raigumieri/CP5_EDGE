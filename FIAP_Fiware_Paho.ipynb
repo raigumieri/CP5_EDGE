{
  "cells": [
    {
      "cell_type": "markdown",
      "metadata": {
        "id": "vSYhD3ues08z"
      },
      "source": [
        "Instalação a biblioteca Paho MQTT"
      ]
    },
    {
      "cell_type": "code",
      "execution_count": null,
      "metadata": {
        "id": "yKd6U4hMpgc0"
      },
      "outputs": [],
      "source": [
        "!pip install paho-mqtt"
      ]
    },
    {
      "cell_type": "markdown",
      "metadata": {
        "id": "kZtAWizGW8rT"
      },
      "source": [
        "Leitura tópico (Subscriber)"
      ]
    },
    {
      "cell_type": "code",
      "execution_count": null,
      "metadata": {
        "id": "mzQ5r5v9uo37"
      },
      "outputs": [],
      "source": [
        "import paho.mqtt.client as mqtt\n",
        "\n",
        "# The callback for when the client receives a CONNACK response from the server.\n",
        "def on_connect(client, userdata, flags, rc):\n",
        "    print(\"Connected with result code \"+str(rc))\n",
        "\n",
        "    # Subscribing in on_connect() means that if we lose the connection and\n",
        "    # reconnect then subscriptions will be renewed.\n",
        "    client.subscribe(\"/TEF/lamp108/attrs/l\")\n",
        "\n",
        "# The callback for when a PUBLISH message is received from the server.\n",
        "def on_message(client, userdata, msg):\n",
        "    print(msg.topic+\" \"+str(msg.payload))\n",
        "\n",
        "client = mqtt.Client()\n",
        "client.on_connect = on_connect\n",
        "client.on_message = on_message\n",
        "\n",
        "client.connect(\"46.17.108.113\", 1883, 60)\n",
        "\n",
        "# Blocking call that processes network traffic, dispatches callbacks and\n",
        "# handles reconnecting.\n",
        "# Other loop*() functions are available that give a threaded interface and a\n",
        "# manual interface.\n",
        "client.loop_forever()"
      ]
    },
    {
      "cell_type": "markdown",
      "metadata": {
        "id": "FDWIIHejWtje"
      },
      "source": [
        "Escrita tópico MQTT (Publisher) - Liga Led"
      ]
    },
    {
      "cell_type": "code",
      "execution_count": null,
      "metadata": {
        "id": "FaK3NMmm8MqH"
      },
      "outputs": [],
      "source": [
        "import paho.mqtt.client as mqtt\n",
        "\n",
        "client.connect(\"46.17.108.113\", 1883, 60)\n",
        "client.publish(\"/TEF/lamp108/cmd\",\"lamp108@on|\")"
      ]
    },
    {
      "cell_type": "markdown",
      "metadata": {
        "id": "iq_eigTyW5R4"
      },
      "source": [
        "Escrita tópico MQTT (Publisher) - Desliga Led"
      ]
    },
    {
      "cell_type": "code",
      "execution_count": null,
      "metadata": {
        "id": "BryEC5jX9ELS"
      },
      "outputs": [],
      "source": [
        "import paho.mqtt.client as mqtt\n",
        "\n",
        "client.connect(\"46.17.108.113\", 1883, 60)\n",
        "client.publish(\"/TEF/lamp108/cmd\",\"lamp108@off|\")"
      ]
    }
  ],
  "metadata": {
    "colab": {
      "provenance": []
    },
    "kernelspec": {
      "display_name": "Python 3",
      "name": "python3"
    },
    "language_info": {
      "name": "python"
    }
  },
  "nbformat": 4,
  "nbformat_minor": 0
}
